{
 "cells": [
  {
   "cell_type": "markdown",
   "id": "cc1d0903",
   "metadata": {},
   "source": [
    "#### Assignment No. 01"
   ]
  },
  {
   "cell_type": "markdown",
   "id": "aefe0753",
   "metadata": {},
   "source": [
    "#### What is 7 to the power of 4"
   ]
  },
  {
   "cell_type": "code",
   "execution_count": 2,
   "id": "7b8bd3e7",
   "metadata": {},
   "outputs": [
    {
     "data": {
      "text/plain": [
       "2401"
      ]
     },
     "execution_count": 2,
     "metadata": {},
     "output_type": "execute_result"
    }
   ],
   "source": [
    "7**4"
   ]
  },
  {
   "cell_type": "markdown",
   "id": "b2287856",
   "metadata": {},
   "source": [
    "#### Split this string:\n",
    "\n",
    "s = \"Hi there Yogesh!\""
   ]
  },
  {
   "cell_type": "code",
   "execution_count": 11,
   "id": "ad04b474",
   "metadata": {},
   "outputs": [],
   "source": [
    "s=\"Hi there Yogesh!\""
   ]
  },
  {
   "cell_type": "code",
   "execution_count": 15,
   "id": "7068fa4d",
   "metadata": {},
   "outputs": [
    {
     "data": {
      "text/plain": [
       "['Hi', 'there', 'Yogesh!']"
      ]
     },
     "execution_count": 15,
     "metadata": {},
     "output_type": "execute_result"
    }
   ],
   "source": [
    "s.split(\" \")\n",
    "\n"
   ]
  },
  {
   "cell_type": "markdown",
   "id": "af58e95e",
   "metadata": {},
   "source": [
    "#### OR Second Method"
   ]
  },
  {
   "cell_type": "code",
   "execution_count": 14,
   "id": "8e8ba2a4",
   "metadata": {},
   "outputs": [
    {
     "name": "stdout",
     "output_type": "stream",
     "text": [
      "['Hi', 'there', 'Yogesh!']\n"
     ]
    }
   ],
   "source": [
    "def Convert(string):\n",
    "    li = list(string.split(\" \"))\n",
    "    return li  \n",
    "str1 = \"Hi there Yogesh!\"\n",
    "print(Convert(str1))"
   ]
  },
  {
   "cell_type": "markdown",
   "id": "d18268ee",
   "metadata": {},
   "source": [
    "#### ** Given the variables:**\n",
    "\n",
    "planet = \"Earth\"\n",
    "diameter = 12742\n",
    "** Use .format() to print the following string: **\n",
    "\n",
    "The diameter of Earth is 12742 kilometers.\n"
   ]
  },
  {
   "cell_type": "code",
   "execution_count": 19,
   "id": "c2a62324",
   "metadata": {},
   "outputs": [],
   "source": [
    "txt=\"The diameter of {planet} is {diameter} kilometer\".format(planet = \"Earth\",diameter = 12742)"
   ]
  },
  {
   "cell_type": "code",
   "execution_count": 20,
   "id": "b81b99ad",
   "metadata": {},
   "outputs": [
    {
     "data": {
      "text/plain": [
       "'The diameter of Earth is 12742 kilometer'"
      ]
     },
     "execution_count": 20,
     "metadata": {},
     "output_type": "execute_result"
    }
   ],
   "source": [
    "txt"
   ]
  },
  {
   "cell_type": "markdown",
   "id": "2943a9f5",
   "metadata": {},
   "source": [
    "lst = [1,2,[3,4],[5,[100,200,['hello']],23,11],1,7]\n",
    "** Given this nested list, use indexing to grab the word \"hello\" **"
   ]
  },
  {
   "cell_type": "code",
   "execution_count": 21,
   "id": "ddb7a78f",
   "metadata": {},
   "outputs": [],
   "source": [
    "lst = [1,2,[3,4],[5,[100,200,['hello']],23,11],1,7]"
   ]
  },
  {
   "cell_type": "code",
   "execution_count": 55,
   "id": "3c2d887b",
   "metadata": {},
   "outputs": [],
   "source": [
    "list1=lst[3][1][2][0]"
   ]
  },
  {
   "cell_type": "code",
   "execution_count": 57,
   "id": "1f48ca69",
   "metadata": {},
   "outputs": [
    {
     "data": {
      "text/plain": [
       "'hello'"
      ]
     },
     "execution_count": 57,
     "metadata": {},
     "output_type": "execute_result"
    }
   ],
   "source": [
    "list1\n"
   ]
  },
  {
   "cell_type": "markdown",
   "id": "fd430813",
   "metadata": {},
   "source": [
    "#### ** Given this nested dictionary grab the word \"hello\". Be prepared, this will be annoying/tricky **"
   ]
  },
  {
   "cell_type": "code",
   "execution_count": 4,
   "id": "597e1b87",
   "metadata": {},
   "outputs": [],
   "source": [
    "d = {'k1':[1,2,3,{'tricky':['oh','man','inception',{'target':[1,2,3,'hello']}]}]}"
   ]
  },
  {
   "cell_type": "code",
   "execution_count": 5,
   "id": "0da1e66b",
   "metadata": {},
   "outputs": [
    {
     "data": {
      "text/plain": [
       "{'k1': [1,\n",
       "  2,\n",
       "  3,\n",
       "  {'tricky': ['oh', 'man', 'inception', {'target': [1, 2, 3, 'hello']}]}]}"
      ]
     },
     "execution_count": 5,
     "metadata": {},
     "output_type": "execute_result"
    }
   ],
   "source": [
    "d"
   ]
  },
  {
   "cell_type": "code",
   "execution_count": 12,
   "id": "2b9dcda6",
   "metadata": {},
   "outputs": [
    {
     "data": {
      "text/plain": [
       "'hello'"
      ]
     },
     "execution_count": 12,
     "metadata": {},
     "output_type": "execute_result"
    }
   ],
   "source": [
    "d[\"k1\"][3][\"tricky\"][3][\"target\"][3]\n"
   ]
  },
  {
   "cell_type": "markdown",
   "id": "8bdebc3f",
   "metadata": {},
   "source": [
    "#### ** What is the main difference between a tuple and a list? **"
   ]
  },
  {
   "cell_type": "code",
   "execution_count": null,
   "id": "a713f45c",
   "metadata": {},
   "outputs": [],
   "source": [
    "#Tuples are Mutable and Lists are Immutable\n",
    "#Tuple contains open bracket and lists contains square bracket"
   ]
  },
  {
   "cell_type": "markdown",
   "id": "b77fcdcd",
   "metadata": {},
   "source": [
    "#### ** Create a function that grabs the email website domain from a string in the form: ** \"user@domain.com\""
   ]
  },
  {
   "cell_type": "code",
   "execution_count": 15,
   "id": "05b046e3",
   "metadata": {},
   "outputs": [],
   "source": [
    "def domainGet(email):\n",
    "    return email.split('@')[-1]"
   ]
  },
  {
   "cell_type": "code",
   "execution_count": 16,
   "id": "54b19c0c",
   "metadata": {},
   "outputs": [
    {
     "data": {
      "text/plain": [
       "'domain.com'"
      ]
     },
     "execution_count": 16,
     "metadata": {},
     "output_type": "execute_result"
    }
   ],
   "source": [
    "domainGet('user@domain.com')"
   ]
  },
  {
   "cell_type": "markdown",
   "id": "778dd1b2",
   "metadata": {},
   "source": [
    "#### ** Create a basic function that returns True if the word 'dog' is contained in the input string. Don't worry about edge cases like a punctuation being attached to the word dog, but do account for capitalization. **"
   ]
  },
  {
   "cell_type": "code",
   "execution_count": 17,
   "id": "ff36cdf8",
   "metadata": {},
   "outputs": [],
   "source": [
    "def findDog(st):\n",
    "    return 'dog' in st.lower().split()"
   ]
  },
  {
   "cell_type": "code",
   "execution_count": 18,
   "id": "08ad3dd5",
   "metadata": {},
   "outputs": [
    {
     "data": {
      "text/plain": [
       "True"
      ]
     },
     "execution_count": 18,
     "metadata": {},
     "output_type": "execute_result"
    }
   ],
   "source": [
    "findDog('Is there a dog here?')"
   ]
  },
  {
   "cell_type": "markdown",
   "id": "148eb8fa",
   "metadata": {},
   "source": [
    "#### ** Create a function that counts the number of times the word \"dog\" occurs in a string. Again ignore edge cases. **"
   ]
  },
  {
   "cell_type": "code",
   "execution_count": 22,
   "id": "d5ae2bbc",
   "metadata": {},
   "outputs": [],
   "source": [
    "def countDog(st):\n",
    "    count = 0\n",
    "    for word in st.lower().split():\n",
    "        if word == 'dog':\n",
    "            count =count+ 1\n",
    "    return count"
   ]
  },
  {
   "cell_type": "code",
   "execution_count": 23,
   "id": "86375ee7",
   "metadata": {},
   "outputs": [
    {
     "data": {
      "text/plain": [
       "2"
      ]
     },
     "execution_count": 23,
     "metadata": {},
     "output_type": "execute_result"
    }
   ],
   "source": [
    "countDog('This dog runs faster than the other dog dude!')"
   ]
  },
  {
   "cell_type": "markdown",
   "id": "2bc1aeca",
   "metadata": {},
   "source": [
    "#### ** Use lambda expressions and the filter() function to filter out words from a list that don't start with the letter 's'. For example:**\n",
    "\n",
    "seq = ['soup','dog','salad','cat','great']"
   ]
  },
  {
   "cell_type": "code",
   "execution_count": 24,
   "id": "75b34781",
   "metadata": {},
   "outputs": [],
   "source": [
    "seq = ['soup','dog','salad','cat','great']"
   ]
  },
  {
   "cell_type": "code",
   "execution_count": 25,
   "id": "308aeb68",
   "metadata": {},
   "outputs": [
    {
     "data": {
      "text/plain": [
       "['soup', 'dog', 'salad', 'cat', 'great']"
      ]
     },
     "execution_count": 25,
     "metadata": {},
     "output_type": "execute_result"
    }
   ],
   "source": [
    "seq"
   ]
  },
  {
   "cell_type": "code",
   "execution_count": 28,
   "id": "3f8192db",
   "metadata": {},
   "outputs": [
    {
     "data": {
      "text/plain": [
       "['soup', 'salad']"
      ]
     },
     "execution_count": 28,
     "metadata": {},
     "output_type": "execute_result"
    }
   ],
   "source": [
    "list(filter(lambda word:word[0]=='s',seq))"
   ]
  },
  {
   "cell_type": "markdown",
   "id": "3d5e0823",
   "metadata": {},
   "source": [
    "#### *You are driving a little too fast, and a police officer stops you. Write a function to return one of 3 possible results: \"No ticket\", \"Small ticket\", or \"Big Ticket\". If your speed is 60 or less, the result is \"No Ticket\". If speed is between 61 and 80 inclusive, the result is \"Small Ticket\". If speed is 81 or more, the result is \"Big Ticket\". Unless it is your birthday (encoded as a boolean value in the parameters of the function) -- on your birthday, your speed can be 5 higher in all cases. *"
   ]
  },
  {
   "cell_type": "code",
   "execution_count": 8,
   "id": "54af54fe",
   "metadata": {},
   "outputs": [],
   "source": [
    "def caught_speeding(speed, is_birthday):\n",
    "    \n",
    "    if is_birthday:\n",
    "        speeding = speed - 5\n",
    "    else:\n",
    "        speeding = speed\n",
    "    \n",
    "    if speeding > 80:\n",
    "        return 'Big Ticket'\n",
    "    elif speeding > 60:\n",
    "        return 'Small Ticket'\n",
    "    else:\n",
    "        return 'No Ticket'"
   ]
  },
  {
   "cell_type": "code",
   "execution_count": 10,
   "id": "4a711eaa",
   "metadata": {},
   "outputs": [
    {
     "data": {
      "text/plain": [
       "'Small Ticket'"
      ]
     },
     "execution_count": 10,
     "metadata": {},
     "output_type": "execute_result"
    }
   ],
   "source": [
    "caught_speeding(81,True)"
   ]
  },
  {
   "cell_type": "code",
   "execution_count": 11,
   "id": "2b5a9e04",
   "metadata": {},
   "outputs": [
    {
     "data": {
      "text/plain": [
       "'Big Ticket'"
      ]
     },
     "execution_count": 11,
     "metadata": {},
     "output_type": "execute_result"
    }
   ],
   "source": [
    "caught_speeding(81,False)"
   ]
  },
  {
   "cell_type": "markdown",
   "id": "27553b5a",
   "metadata": {},
   "source": [
    "#### Question\n",
    "Given a string print number num by extracting all the\n",
    "digits from the string as in string\n",
    "Print negative number if the first character in \n",
    "string is '-'\n",
    "eg.\n",
    "-123abcd should return -123,abcd456-->456,fdhfh78dsd89--->7889,-56dssd78-->-5678"
   ]
  },
  {
   "cell_type": "code",
   "execution_count": 15,
   "id": "a9da6927",
   "metadata": {},
   "outputs": [
    {
     "name": "stdout",
     "output_type": "stream",
     "text": [
      "enter the stringabcs-123dhge\n",
      "-123\n"
     ]
    }
   ],
   "source": [
    "import re\n",
    "num_input=input(\"enter the string\")\n",
    "numbers=re.findall(r\"[-]?\\d\",num_input)\n",
    "print(\"\".join(numbers))\n"
   ]
  },
  {
   "cell_type": "code",
   "execution_count": 4,
   "id": "b13bd79c",
   "metadata": {},
   "outputs": [
    {
     "name": "stdout",
     "output_type": "stream",
     "text": [
      "enter the stringabcd456\n",
      "456\n"
     ]
    }
   ],
   "source": [
    "import re\n",
    "num_input=input(\"enter the string\")\n",
    "numbers=re.findall(r\"[-]?\\d\",num_input)\n",
    "print(\"\".join(numbers))"
   ]
  },
  {
   "cell_type": "code",
   "execution_count": 37,
   "id": "22768ab1",
   "metadata": {},
   "outputs": [
    {
     "name": "stdout",
     "output_type": "stream",
     "text": [
      "Enter input-123sssg\n",
      "-123\n"
     ]
    }
   ],
   "source": [
    "s=input(\"Enter input\")\n",
    "num=\"\"\n",
    "a=[0,1,2,3,4,5,6,7,8,9]\n",
    "if s==\"\":\n",
    "    print(\"Enter someting as input\")\n",
    "else:\n",
    "      if s[0]=='-':\n",
    "            num=num + '-'\n",
    "            for c in s:\n",
    "                if c in str(a):\n",
    "                    num=num + c\n",
    "            print(num)"
   ]
  },
  {
   "cell_type": "markdown",
   "id": "0f58fae1",
   "metadata": {},
   "source": [
    "#### WAP to check whether a number is palindrome or not on following conditions.\n",
    "1. take input number\n",
    "2. add number and its reverse\n",
    "3. check that number is palindrome or not,if not then sum and its reverse"
   ]
  },
  {
   "cell_type": "code",
   "execution_count": 35,
   "id": "5fe9440a",
   "metadata": {},
   "outputs": [
    {
     "name": "stdout",
     "output_type": "stream",
     "text": [
      "Enter the number768\n",
      "number is 6996\n",
      "Reverse is 6996\n",
      "palindrome is 6996\n"
     ]
    }
   ],
   "source": [
    "num1=input(\"Enter the number\")\n",
    "num2=int(num1[::-1])\n",
    "num3=str(int(num1)+(num2))\n",
    "while str(num3)!=str(num3[::-1]):\n",
    "    num3=str(int(num3)+int(num3[::-1]))\n",
    "    print(\"number is\",num3)\n",
    "    print(\"Reverse is\",num3[::-1])\n",
    "    print(\"palindrome is\",num3)\n",
    "    "
   ]
  },
  {
   "cell_type": "markdown",
   "id": "add9170e",
   "metadata": {},
   "source": [
    "#### Write a python function to find and display the five \n",
    "#### digit number in which the first digit is two more than \n",
    "#### the second,the second digit is two more than the third,\n",
    "#### the fourth digit is two less than the third, and the \n",
    "#### last digit is two more than\n",
    "#### the fourth.The sum of the third,fourth and fifth digits\n",
    "#### equals the first.The sum of all the digits is 19"
   ]
  },
  {
   "cell_type": "code",
   "execution_count": 22,
   "id": "1a59a34b",
   "metadata": {},
   "outputs": [
    {
     "name": "stdout",
     "output_type": "stream",
     "text": [
      "75313\n"
     ]
    }
   ],
   "source": [
    " def find_five_digit():\n",
    "        for i in range(9,0,-1):\n",
    "            first=i\n",
    "            second = i-2\n",
    "            third=i-4\n",
    "            fourth=i-6\n",
    "            fifth=i-4\n",
    "            if(third+fourth+fifth==first):\n",
    "                if (first+second+third+fourth+fifth)==19:\n",
    "                    return(int(str(first)+str(second)+str(third)+str(fourth)+str(fifth)))\n",
    "print(number())\n"
   ]
  }
 ],
 "metadata": {
  "kernelspec": {
   "display_name": "Python 3 (ipykernel)",
   "language": "python",
   "name": "python3"
  },
  "language_info": {
   "codemirror_mode": {
    "name": "ipython",
    "version": 3
   },
   "file_extension": ".py",
   "mimetype": "text/x-python",
   "name": "python",
   "nbconvert_exporter": "python",
   "pygments_lexer": "ipython3",
   "version": "3.9.7"
  }
 },
 "nbformat": 4,
 "nbformat_minor": 5
}
